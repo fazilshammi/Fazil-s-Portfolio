{
 "cells": [
  {
   "cell_type": "code",
   "execution_count": null,
   "metadata": {},
   "outputs": [],
   "source": [
    "# Importing Libraries\n",
    "import pandas as pd\n",
    "import numpy as np\n",
    "import seaborn as sns\n",
    "from imblearn.over_sampling import SMOTE\n",
    "from sklearn.preprocessing import OneHotEncoder\n",
    "from sklearn.ensemble import RandomForestClassifier\n",
    "from sklearn.model_selection import train_test_split\n",
    "from sklearn.metrics import classification_report,confusion_matrix,accuracy_score\n",
    "\n"
   ]
  },
  {
   "cell_type": "code",
   "execution_count": null,
   "metadata": {},
   "outputs": [],
   "source": [
    "# Importing the datset \n",
    "dataset = pd.read_csv('Synthetic_Financial_datasets_log.csv')\n",
    "df = dataset # Making a copy of Original Dataset\n",
    "df.info # Understanding dataset"
   ]
  },
  {
   "cell_type": "code",
   "execution_count": null,
   "metadata": {},
   "outputs": [],
   "source": [
    "# Removing Uncessary Columns\n",
    "df.drop(['step','isFlaggedFraud','nameOrig','nameDest'], inplace= True, axis = 1)"
   ]
  },
  {
   "cell_type": "code",
   "execution_count": null,
   "metadata": {},
   "outputs": [],
   "source": [
    "# Balancing the fraud and not fraud data\n",
    "oversample = SMOTE()\n",
    "x,y = oversample.fit_resample(df[['Cash_IN','Cash_Out','Debit','Payment','Transfer','amount','oldbalanceOrg','newbalanceOrig','oldbalanceDest','newbalanceDest']],df['isFraud'])\n",
    "X = pd.DataFrame(x)\n",
    "Y = pd.DataFrame((y))\n",
    "Balanced_df = pd.concat([X,Y],axis= 1)"
   ]
  },
  {
   "cell_type": "code",
   "execution_count": null,
   "metadata": {},
   "outputs": [],
   "source": [
    "# Feature Engineering\n",
    "encoder = OneHotEncoder()\n",
    "a = encoder.fit_transform(df[['type']]).toarray() # Changing Categorical column in to numerical columns\n",
    "encode_type = pd.DataFrame(a, columns= encoder.get_feature_names_out()) \n",
    "df['Cash_IN'],df['Cash_Out'],df['Debit'],df['Payment'],df['Transfer'] = encode_type['type_CASH_IN'],encode_type['type_CASH_OUT'],encode_type['type_DEBIT'],encode_type['type_PAYMENT'],encode_type['type_TRANSFER']\n",
    "df.drop(['type'],axis=1)"
   ]
  },
  {
   "cell_type": "code",
   "execution_count": null,
   "metadata": {},
   "outputs": [],
   "source": [
    "# Random Forest Model\n",
    "fraud = Balanced_df['isFraud']\n",
    "normal = Balanced_df.drop('isFraud',axis=1)\n",
    "Norm_Train, Norm_Test,Fraud_Train,Fraud_Test = train_test_split(normal,fraud,train_size=0.3,random_state= 42,stratify= y)\n",
    "rf_model = RandomForestClassifier(n_estimators= 100,n_jobs= -1 ,random_state=42)\n",
    "rf_model.fit(Norm_Train,Fraud_Train)\n",
    "Fraud_pred = rf_model.predict(Norm_Test)"
   ]
  },
  {
   "cell_type": "code",
   "execution_count": null,
   "metadata": {},
   "outputs": [],
   "source": [
    "# Testing the accuraqcy of the model\n",
    "print(\"Accuracy\",accuracy_score(Fraud_Test,Fraud_pred))\n",
    "print(\"Confusion MAtrix\\n|\" , confusion_matrix(Fraud_Test,Fraud_pred))\n",
    "print(\"Classification Report\", classification_report(Fraud_Test,Fraud_pred)) "
   ]
  },
  {
   "cell_type": "code",
   "execution_count": null,
   "metadata": {},
   "outputs": [
    {
     "ename": "NameError",
     "evalue": "name 'pd' is not defined",
     "output_type": "error",
     "traceback": [
      "\u001b[1;31m---------------------------------------------------------------------------\u001b[0m",
      "\u001b[1;31mNameError\u001b[0m                                 Traceback (most recent call last)",
      "Cell \u001b[1;32mIn[1], line 1\u001b[0m\n\u001b[1;32m----> 1\u001b[0m importances \u001b[38;5;241m=\u001b[39m \u001b[43mpd\u001b[49m\u001b[38;5;241m.\u001b[39mSeries(rf_model\u001b[38;5;241m.\u001b[39mfeature_importances_, index\u001b[38;5;241m=\u001b[39mX\u001b[38;5;241m.\u001b[39mcolumns)\u001b[38;5;241m.\u001b[39msort_values(ascending\u001b[38;5;241m=\u001b[39m\u001b[38;5;28;01mFalse\u001b[39;00m)\n\u001b[0;32m      2\u001b[0m \u001b[38;5;28mprint\u001b[39m(\u001b[38;5;124m\"\u001b[39m\u001b[38;5;124mFeature Importances:\u001b[39m\u001b[38;5;130;01m\\n\u001b[39;00m\u001b[38;5;124m\"\u001b[39m, importances) \u001b[38;5;66;03m# I Love You Meri Jaan :)\u001b[39;00m\n",
      "\u001b[1;31mNameError\u001b[0m: name 'pd' is not defined"
     ]
    }
   ],
   "source": [
    "importances = pd.Series(rf_model.feature_importances_, index=X.columns).sort_values(ascending=False)\n",
    "print(\"Feature Importances:\\n\", importances) \n"
   ]
  },
  {
   "cell_type": "code",
   "execution_count": null,
   "metadata": {},
   "outputs": [],
   "source": []
  },
  {
   "cell_type": "code",
   "execution_count": null,
   "metadata": {},
   "outputs": [],
   "source": []
  },
  {
   "cell_type": "code",
   "execution_count": null,
   "metadata": {},
   "outputs": [],
   "source": []
  },
  {
   "cell_type": "code",
   "execution_count": null,
   "metadata": {},
   "outputs": [],
   "source": []
  },
  {
   "cell_type": "code",
   "execution_count": null,
   "metadata": {},
   "outputs": [],
   "source": []
  },
  {
   "cell_type": "code",
   "execution_count": null,
   "metadata": {},
   "outputs": [],
   "source": []
  },
  {
   "cell_type": "code",
   "execution_count": null,
   "metadata": {},
   "outputs": [],
   "source": []
  },
  {
   "cell_type": "code",
   "execution_count": null,
   "metadata": {},
   "outputs": [],
   "source": []
  },
  {
   "cell_type": "code",
   "execution_count": null,
   "metadata": {},
   "outputs": [],
   "source": []
  },
  {
   "cell_type": "code",
   "execution_count": null,
   "metadata": {},
   "outputs": [],
   "source": []
  }
 ],
 "metadata": {
  "kernelspec": {
   "display_name": "Python 3",
   "language": "python",
   "name": "python3"
  },
  "language_info": {
   "codemirror_mode": {
    "name": "ipython",
    "version": 3
   },
   "file_extension": ".py",
   "mimetype": "text/x-python",
   "name": "python",
   "nbconvert_exporter": "python",
   "pygments_lexer": "ipython3",
   "version": "3.12.2"
  }
 },
 "nbformat": 4,
 "nbformat_minor": 2
}
